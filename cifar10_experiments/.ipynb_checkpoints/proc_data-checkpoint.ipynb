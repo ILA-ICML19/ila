{
 "cells": [
  {
   "cell_type": "code",
   "execution_count": null,
   "metadata": {
    "collapsed": true
   },
   "outputs": [],
   "source": [
    "import pandas as pd\n",
    "import numpy as np\n",
    "import matplotlib.pyplot as plt\n",
    "%matplotlib inline  \n",
    "from matplotlib.font_manager import FontProperties"
   ]
  },
  {
   "cell_type": "code",
   "execution_count": null,
   "metadata": {
    "collapsed": true
   },
   "outputs": [],
   "source": [
    "df = pd.read_csv(\"result.csv\")"
   ]
  },
  {
   "cell_type": "code",
   "execution_count": null,
   "metadata": {},
   "outputs": [],
   "source": [
    "baseline = df[df.with_fla == False].groupby(['source_model', 'target_model','fool_method'])['acc_after_attack'].mean().reset_index()\n",
    "baseline"
   ]
  },
  {
   "cell_type": "code",
   "execution_count": null,
   "metadata": {},
   "outputs": [],
   "source": [
    "q = df[(df.with_fla == True)].groupby(['source_model', 'target_model','fool_method','layer_index'])['acc_after_attack'].mean().reset_index()\n",
    "q\n",
    "# q[(q.source_model == 'ResNet18') & (q.target_model != 'ResNet18')]\n"
   ]
  },
  {
   "cell_type": "code",
   "execution_count": null,
   "metadata": {},
   "outputs": [],
   "source": [
    "layer_selection = {'DenseNet121': 7, 'GoogLeNet': 9,'ResNet18': 4,'SENet18': 4}\n",
    "# select = q[q.layer_index == layer_selection[q.source_model]]\n",
    "# select\n",
    "layer_selected = q[q.layer_index == q.source_model.apply(lambda a : layer_selection[a])].reset_index()\n",
    "layer_selected = layer_selected.drop(['index'], axis=1)\n",
    "layer_selected"
   ]
  },
  {
   "cell_type": "code",
   "execution_count": null,
   "metadata": {},
   "outputs": [],
   "source": [
    "optimum = q.groupby(['source_model','target_model','fool_method']).apply(lambda x: x[x.acc_after_attack == x.acc_after_attack.min()][['layer_index', 'acc_after_attack']]).reset_index()\n",
    "optimum = optimum.drop(['level_3'], axis=1)\n",
    "optimum\n"
   ]
  },
  {
   "cell_type": "code",
   "execution_count": null,
   "metadata": {},
   "outputs": [],
   "source": [
    "compare = layer_selected.merge(optimum, on = ['source_model','target_model','fool_method'], suffixes = [\"\",\"_opt\"])\n",
    "compare = compare.merge(baseline, on = ['source_model','target_model','fool_method'], suffixes = [\"\",\"_baseline\"])\n",
    "compare"
   ]
  },
  {
   "cell_type": "code",
   "execution_count": null,
   "metadata": {
    "collapsed": true
   },
   "outputs": [],
   "source": [
    "def visualize_result(name):\n",
    "    df = pd.read_csv(name)\n",
    "    source_models = df.source_model.unique()\n",
    "    target_models =  df.target_model.unique()\n",
    "    attacks = df.fool_method.unique()\n",
    "    metrics = ['acc_after_attack']\n",
    "    target_models = ['ResNet18', 'DenseNet121', 'GoogLeNet', 'SENet18']\n",
    "    for metric in metrics:\n",
    "        \n",
    "        for source_model in source_models:\n",
    "#             fig = plt.figure()\n",
    "            fig = plt.figure(figsize = [6*len(attacks), 4])\n",
    "            \n",
    "            for i, attack in enumerate(attacks):\n",
    "                \n",
    "                plt.subplot(1,len(attacks),i+1)\n",
    "                \n",
    "                layer_indexs = df[df.source_model == source_model]['layer_index'].unique()[1:]\n",
    "                layer_names = df[df.source_model == source_model]['layer_name'].unique()[1:]\n",
    "                print(layer_names)\n",
    "                for target_model in target_models:           \n",
    "                    r = df[(df.source_model == source_model) & (df.target_model == target_model) & (df.fool_method == attack)]\n",
    "                    \n",
    "                    fla = r[r.with_fla].groupby('layer_index')\n",
    "                    other = r[r.with_fla == False]\n",
    "#                     print(other)\n",
    "                    xs = fla.layer_index.unique()\n",
    "                    baseline = other[metric].mean()\n",
    "                    fla_r = fla[metric].mean()\n",
    "                    names = fla.layer_name.unique()\n",
    "#                     print(source_model)\n",
    "#                     print(target_model)\n",
    "#                     print(attack)\n",
    "#                     print([baseline for i in xs])\n",
    "                    p = plt.plot(layer_indexs,  [baseline for i in xs], linestyle = '--', label = target_model)\n",
    "                    plt.plot(fla_r, label =  target_model + \"(ILA proj_loss)\", color = p[0]._color)\n",
    "#                     plt.xticks(layer_indexs, layer_names)\n",
    "                    if source_model != target_model and ((metric == 'fool_rate' and not(fla_r > baseline).any())or (metric == 'acc_after_attack' and not(fla_r < baseline).any())):\n",
    "                        print(\"never perform absolutely better: \" + source_model + \" \" + target_model)\n",
    "                \n",
    "                \n",
    "                plt.ylabel('Accuracy after Attack')\n",
    "                plt.xlabel('Layer Index')\n",
    "                fontP = FontProperties()\n",
    "                fontP.set_size('small')\n",
    "                \n",
    "                plt.legend(ncol = 3, loc=[0.05, -0.4], prop=fontP)\n",
    "#                 if attack == 'ifgsm':\n",
    "#                     plt.title( \"ifgsm, source:\" + source_model)\n",
    "#                 if attack == 'momentum_ifgsm':\n",
    "#                     plt.title(\"momentum_ifgsm, source:\" + source_model )\n",
    "             \n",
    "#                 plt.title(attack + \" source:\" + source_model)\n",
    "#                 plt.title(name[-16:-4])\n",
    "            plt.show()\n",
    "            fig.savefig( name[:-4] + '.pdf')\n",
    "    \n",
    "#             fig.savefig( 'project_loss_sign_50batches_{}_source:{}.pdf'.format(attack, source_model))\n"
   ]
  },
  {
   "cell_type": "code",
   "execution_count": null,
   "metadata": {},
   "outputs": [],
   "source": [
    "visualize_result('result.csv')"
   ]
  },
  {
   "cell_type": "code",
   "execution_count": null,
   "metadata": {
    "collapsed": true
   },
   "outputs": [],
   "source": []
  }
 ],
 "metadata": {
  "kernelspec": {
   "display_name": "Python 3",
   "language": "python",
   "name": "python3"
  },
  "language_info": {
   "codemirror_mode": {
    "name": "ipython",
    "version": 3
   },
   "file_extension": ".py",
   "mimetype": "text/x-python",
   "name": "python",
   "nbconvert_exporter": "python",
   "pygments_lexer": "ipython3",
   "version": "3.6.3"
  }
 },
 "nbformat": 4,
 "nbformat_minor": 2
}
